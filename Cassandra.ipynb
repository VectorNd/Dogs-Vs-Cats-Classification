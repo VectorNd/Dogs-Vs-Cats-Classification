{
  "nbformat": 4,
  "nbformat_minor": 0,
  "metadata": {
    "colab": {
      "provenance": [],
      "authorship_tag": "ABX9TyP+xE06/ucqk+jfF8/WbMpb",
      "include_colab_link": true
    },
    "kernelspec": {
      "name": "python3",
      "display_name": "Python 3"
    },
    "language_info": {
      "name": "python"
    },
    "gpuClass": "standard",
    "accelerator": "GPU"
  },
  "cells": [
    {
      "cell_type": "markdown",
      "metadata": {
        "id": "view-in-github",
        "colab_type": "text"
      },
      "source": [
        "<a href=\"https://colab.research.google.com/github/VectorNd/Dogs-Vs-Cats-Classification/blob/main/Cassandra.ipynb\" target=\"_parent\"><img src=\"https://colab.research.google.com/assets/colab-badge.svg\" alt=\"Open In Colab\"/></a>"
      ]
    },
    {
      "cell_type": "code",
      "source": [
        "! pip install -q kaggle\n",
        "from google.colab import files\n",
        "files.upload()\n",
        "\n",
        "! mkdir ~/.kaggle\n",
        "! cp kaggle.json ~/.kaggle/\n",
        "! chmod 600 ~/.kaggle/kaggle.json"
      ],
      "metadata": {
        "colab": {
          "base_uri": "https://localhost:8080/",
          "height": 90
        },
        "id": "SLt4C-WZA3Wy",
        "outputId": "d065f33e-9fe0-405c-f337-d40eb27e4e16"
      },
      "execution_count": 7,
      "outputs": [
        {
          "output_type": "display_data",
          "data": {
            "text/plain": [
              "<IPython.core.display.HTML object>"
            ],
            "text/html": [
              "\n",
              "     <input type=\"file\" id=\"files-d77e19a4-260c-4d3b-9f22-83bb09c3ccf7\" name=\"files[]\" multiple disabled\n",
              "        style=\"border:none\" />\n",
              "     <output id=\"result-d77e19a4-260c-4d3b-9f22-83bb09c3ccf7\">\n",
              "      Upload widget is only available when the cell has been executed in the\n",
              "      current browser session. Please rerun this cell to enable.\n",
              "      </output>\n",
              "      <script>// Copyright 2017 Google LLC\n",
              "//\n",
              "// Licensed under the Apache License, Version 2.0 (the \"License\");\n",
              "// you may not use this file except in compliance with the License.\n",
              "// You may obtain a copy of the License at\n",
              "//\n",
              "//      http://www.apache.org/licenses/LICENSE-2.0\n",
              "//\n",
              "// Unless required by applicable law or agreed to in writing, software\n",
              "// distributed under the License is distributed on an \"AS IS\" BASIS,\n",
              "// WITHOUT WARRANTIES OR CONDITIONS OF ANY KIND, either express or implied.\n",
              "// See the License for the specific language governing permissions and\n",
              "// limitations under the License.\n",
              "\n",
              "/**\n",
              " * @fileoverview Helpers for google.colab Python module.\n",
              " */\n",
              "(function(scope) {\n",
              "function span(text, styleAttributes = {}) {\n",
              "  const element = document.createElement('span');\n",
              "  element.textContent = text;\n",
              "  for (const key of Object.keys(styleAttributes)) {\n",
              "    element.style[key] = styleAttributes[key];\n",
              "  }\n",
              "  return element;\n",
              "}\n",
              "\n",
              "// Max number of bytes which will be uploaded at a time.\n",
              "const MAX_PAYLOAD_SIZE = 100 * 1024;\n",
              "\n",
              "function _uploadFiles(inputId, outputId) {\n",
              "  const steps = uploadFilesStep(inputId, outputId);\n",
              "  const outputElement = document.getElementById(outputId);\n",
              "  // Cache steps on the outputElement to make it available for the next call\n",
              "  // to uploadFilesContinue from Python.\n",
              "  outputElement.steps = steps;\n",
              "\n",
              "  return _uploadFilesContinue(outputId);\n",
              "}\n",
              "\n",
              "// This is roughly an async generator (not supported in the browser yet),\n",
              "// where there are multiple asynchronous steps and the Python side is going\n",
              "// to poll for completion of each step.\n",
              "// This uses a Promise to block the python side on completion of each step,\n",
              "// then passes the result of the previous step as the input to the next step.\n",
              "function _uploadFilesContinue(outputId) {\n",
              "  const outputElement = document.getElementById(outputId);\n",
              "  const steps = outputElement.steps;\n",
              "\n",
              "  const next = steps.next(outputElement.lastPromiseValue);\n",
              "  return Promise.resolve(next.value.promise).then((value) => {\n",
              "    // Cache the last promise value to make it available to the next\n",
              "    // step of the generator.\n",
              "    outputElement.lastPromiseValue = value;\n",
              "    return next.value.response;\n",
              "  });\n",
              "}\n",
              "\n",
              "/**\n",
              " * Generator function which is called between each async step of the upload\n",
              " * process.\n",
              " * @param {string} inputId Element ID of the input file picker element.\n",
              " * @param {string} outputId Element ID of the output display.\n",
              " * @return {!Iterable<!Object>} Iterable of next steps.\n",
              " */\n",
              "function* uploadFilesStep(inputId, outputId) {\n",
              "  const inputElement = document.getElementById(inputId);\n",
              "  inputElement.disabled = false;\n",
              "\n",
              "  const outputElement = document.getElementById(outputId);\n",
              "  outputElement.innerHTML = '';\n",
              "\n",
              "  const pickedPromise = new Promise((resolve) => {\n",
              "    inputElement.addEventListener('change', (e) => {\n",
              "      resolve(e.target.files);\n",
              "    });\n",
              "  });\n",
              "\n",
              "  const cancel = document.createElement('button');\n",
              "  inputElement.parentElement.appendChild(cancel);\n",
              "  cancel.textContent = 'Cancel upload';\n",
              "  const cancelPromise = new Promise((resolve) => {\n",
              "    cancel.onclick = () => {\n",
              "      resolve(null);\n",
              "    };\n",
              "  });\n",
              "\n",
              "  // Wait for the user to pick the files.\n",
              "  const files = yield {\n",
              "    promise: Promise.race([pickedPromise, cancelPromise]),\n",
              "    response: {\n",
              "      action: 'starting',\n",
              "    }\n",
              "  };\n",
              "\n",
              "  cancel.remove();\n",
              "\n",
              "  // Disable the input element since further picks are not allowed.\n",
              "  inputElement.disabled = true;\n",
              "\n",
              "  if (!files) {\n",
              "    return {\n",
              "      response: {\n",
              "        action: 'complete',\n",
              "      }\n",
              "    };\n",
              "  }\n",
              "\n",
              "  for (const file of files) {\n",
              "    const li = document.createElement('li');\n",
              "    li.append(span(file.name, {fontWeight: 'bold'}));\n",
              "    li.append(span(\n",
              "        `(${file.type || 'n/a'}) - ${file.size} bytes, ` +\n",
              "        `last modified: ${\n",
              "            file.lastModifiedDate ? file.lastModifiedDate.toLocaleDateString() :\n",
              "                                    'n/a'} - `));\n",
              "    const percent = span('0% done');\n",
              "    li.appendChild(percent);\n",
              "\n",
              "    outputElement.appendChild(li);\n",
              "\n",
              "    const fileDataPromise = new Promise((resolve) => {\n",
              "      const reader = new FileReader();\n",
              "      reader.onload = (e) => {\n",
              "        resolve(e.target.result);\n",
              "      };\n",
              "      reader.readAsArrayBuffer(file);\n",
              "    });\n",
              "    // Wait for the data to be ready.\n",
              "    let fileData = yield {\n",
              "      promise: fileDataPromise,\n",
              "      response: {\n",
              "        action: 'continue',\n",
              "      }\n",
              "    };\n",
              "\n",
              "    // Use a chunked sending to avoid message size limits. See b/62115660.\n",
              "    let position = 0;\n",
              "    do {\n",
              "      const length = Math.min(fileData.byteLength - position, MAX_PAYLOAD_SIZE);\n",
              "      const chunk = new Uint8Array(fileData, position, length);\n",
              "      position += length;\n",
              "\n",
              "      const base64 = btoa(String.fromCharCode.apply(null, chunk));\n",
              "      yield {\n",
              "        response: {\n",
              "          action: 'append',\n",
              "          file: file.name,\n",
              "          data: base64,\n",
              "        },\n",
              "      };\n",
              "\n",
              "      let percentDone = fileData.byteLength === 0 ?\n",
              "          100 :\n",
              "          Math.round((position / fileData.byteLength) * 100);\n",
              "      percent.textContent = `${percentDone}% done`;\n",
              "\n",
              "    } while (position < fileData.byteLength);\n",
              "  }\n",
              "\n",
              "  // All done.\n",
              "  yield {\n",
              "    response: {\n",
              "      action: 'complete',\n",
              "    }\n",
              "  };\n",
              "}\n",
              "\n",
              "scope.google = scope.google || {};\n",
              "scope.google.colab = scope.google.colab || {};\n",
              "scope.google.colab._files = {\n",
              "  _uploadFiles,\n",
              "  _uploadFilesContinue,\n",
              "};\n",
              "})(self);\n",
              "</script> "
            ]
          },
          "metadata": {}
        },
        {
          "output_type": "stream",
          "name": "stdout",
          "text": [
            "Saving kaggle.json to kaggle (1).json\n",
            "mkdir: cannot create directory ‘/root/.kaggle’: File exists\n"
          ]
        }
      ]
    },
    {
      "cell_type": "code",
      "source": [
        "!kaggle competitions download -c cassandra23-ps-2"
      ],
      "metadata": {
        "id": "gI3d5VIOBMSP",
        "colab": {
          "base_uri": "https://localhost:8080/"
        },
        "outputId": "2ab225fd-d4e4-47dd-f11e-d8ec989841a5"
      },
      "execution_count": 8,
      "outputs": [
        {
          "output_type": "stream",
          "name": "stdout",
          "text": [
            "cassandra23-ps-2.zip: Skipping, found more recently modified local copy (use --force to force download)\n"
          ]
        }
      ]
    },
    {
      "cell_type": "code",
      "source": [
        "!unzip /content/cassandra23-ps-2.zip -d cassandra/"
      ],
      "metadata": {
        "id": "-0I0VsFgBR__",
        "colab": {
          "base_uri": "https://localhost:8080/"
        },
        "outputId": "37341b9f-2f9e-46f0-a8f7-5eb474243884"
      },
      "execution_count": 9,
      "outputs": [
        {
          "output_type": "stream",
          "name": "stdout",
          "text": [
            "Archive:  /content/cassandra23-ps-2.zip\n",
            "replace cassandra/dataset/sample_submissions.csv? [y]es, [n]o, [A]ll, [N]one, [r]ename: n\n",
            "replace cassandra/dataset/test_data.csv? [y]es, [n]o, [A]ll, [N]one, [r]ename: n\n",
            "replace cassandra/dataset/train_data.csv? [y]es, [n]o, [A]ll, [N]one, [r]ename: n\n"
          ]
        }
      ]
    },
    {
      "cell_type": "markdown",
      "source": [
        "**Dataset Analysis**"
      ],
      "metadata": {
        "id": "Ynu62HgEBjn8"
      }
    },
    {
      "cell_type": "code",
      "source": [
        "import pandas as pd \n",
        "\n",
        "train_csv = pd.read_csv('/content/cassandra/dataset/train_data.csv')"
      ],
      "metadata": {
        "id": "gG73qTsDBuw1"
      },
      "execution_count": 10,
      "outputs": []
    },
    {
      "cell_type": "code",
      "source": [
        "test_csv = pd.read_csv('/content/cassandra/dataset/test_data.csv') \n",
        "Test_csv = test_csv.drop(columns = ['UID' , 'trip_creation_time' , 'route_schedule_uuid' ,'trip_uuid' , 'source_center' , 'destination_center' ,\n",
        "                                      'od_start_time' , 'od_end_time' , 'cutoff_timestamp' , 'source_name' , 'destination_name']) \n",
        "\n",
        "Test_csv.shape"
      ],
      "metadata": {
        "colab": {
          "base_uri": "https://localhost:8080/"
        },
        "id": "CL3UKoDuWC12",
        "outputId": "eba03924-516f-4196-d83f-f3bf77564726"
      },
      "execution_count": 11,
      "outputs": [
        {
          "output_type": "execute_result",
          "data": {
            "text/plain": [
              "(72158, 12)"
            ]
          },
          "metadata": {},
          "execution_count": 11
        }
      ]
    },
    {
      "cell_type": "code",
      "source": [
        "train_csv.isnull().sum()"
      ],
      "metadata": {
        "colab": {
          "base_uri": "https://localhost:8080/"
        },
        "id": "wfWJZ2iyQxEy",
        "outputId": "e3c7e778-c9ca-41b2-bbc9-e2a6bc1e2e32"
      },
      "execution_count": 12,
      "outputs": [
        {
          "output_type": "execute_result",
          "data": {
            "text/plain": [
              "UID                                   0\n",
              "trip_creation_time                 3515\n",
              "route_schedule_uuid                2895\n",
              "route_type                            0\n",
              "trip_uuid                             0\n",
              "source_center                         0\n",
              "source_name                           0\n",
              "destination_center                  803\n",
              "destination_name                      0\n",
              "od_start_time                         0\n",
              "od_end_time                         720\n",
              "start_scan_to_end_scan                0\n",
              "is_cutoff                             0\n",
              "cutoff_factor                         0\n",
              "cutoff_timestamp                    930\n",
              "actual_distance_to_destination        0\n",
              "osrm_time                         14432\n",
              "osrm_distance                     14432\n",
              "factor                             1644\n",
              "segment_actual_time                   0\n",
              "segment_osrm_time                     0\n",
              "segment_osrm_distance                 0\n",
              "segment_factor                     1159\n",
              "actual_time                           0\n",
              "dtype: int64"
            ]
          },
          "metadata": {},
          "execution_count": 12
        }
      ]
    },
    {
      "cell_type": "code",
      "source": [
        "train_csv.shape"
      ],
      "metadata": {
        "colab": {
          "base_uri": "https://localhost:8080/"
        },
        "id": "Jy0Esm3mQ3U8",
        "outputId": "b2a76969-1bd9-4d34-f902-cbe43227164f"
      },
      "execution_count": 13,
      "outputs": [
        {
          "output_type": "execute_result",
          "data": {
            "text/plain": [
              "(72158, 24)"
            ]
          },
          "metadata": {},
          "execution_count": 13
        }
      ]
    },
    {
      "cell_type": "code",
      "source": [
        "train_csv.duplicated().sum()"
      ],
      "metadata": {
        "colab": {
          "base_uri": "https://localhost:8080/"
        },
        "id": "_dgKY72gROGX",
        "outputId": "1440fc8e-53fc-453d-fc66-cf574bf71bf9"
      },
      "execution_count": 14,
      "outputs": [
        {
          "output_type": "execute_result",
          "data": {
            "text/plain": [
              "0"
            ]
          },
          "metadata": {},
          "execution_count": 14
        }
      ]
    },
    {
      "cell_type": "code",
      "source": [
        "Train_csv = train_csv.drop(columns = ['UID' , 'trip_creation_time' , 'route_schedule_uuid' ,'trip_uuid' , 'source_center' , 'destination_center' ,\n",
        "                                      'od_start_time' , 'od_end_time' , 'cutoff_timestamp'])\n",
        "\n",
        "Train_csv.head()"
      ],
      "metadata": {
        "id": "huqIaam56_d0"
      },
      "execution_count": null,
      "outputs": []
    },
    {
      "cell_type": "code",
      "source": [
        "corr_matrix = Train_csv.corr()['actual_time'].sort_values(ascending = True)\n",
        "corr_matrix "
      ],
      "metadata": {
        "colab": {
          "base_uri": "https://localhost:8080/"
        },
        "id": "phvcvFc5T4d7",
        "outputId": "c619961b-b8ad-4ba4-f5fc-b1cc6992f4f4"
      },
      "execution_count": 16,
      "outputs": [
        {
          "output_type": "execute_result",
          "data": {
            "text/plain": [
              "segment_factor                    0.014070\n",
              "factor                            0.032473\n",
              "segment_actual_time               0.120842\n",
              "segment_osrm_time                 0.163041\n",
              "is_cutoff                         0.164992\n",
              "segment_osrm_distance             0.226091\n",
              "osrm_time                         0.721952\n",
              "osrm_distance                     0.725394\n",
              "start_scan_to_end_scan            0.774909\n",
              "actual_distance_to_destination    0.968574\n",
              "cutoff_factor                     0.979045\n",
              "actual_time                       1.000000\n",
              "Name: actual_time, dtype: float64"
            ]
          },
          "metadata": {},
          "execution_count": 16
        }
      ]
    },
    {
      "cell_type": "code",
      "source": [
        "Train_csv.shape"
      ],
      "metadata": {
        "colab": {
          "base_uri": "https://localhost:8080/"
        },
        "id": "My3mwjy_8zIC",
        "outputId": "4f785108-e410-4016-cc2f-e79b7ad3bae2"
      },
      "execution_count": 17,
      "outputs": [
        {
          "output_type": "execute_result",
          "data": {
            "text/plain": [
              "(72158, 15)"
            ]
          },
          "metadata": {},
          "execution_count": 17
        }
      ]
    },
    {
      "cell_type": "code",
      "source": [
        "# METHOD 1 \n",
        "\n",
        "Train = Train_csv.dropna().drop(columns = ['source_name' , 'destination_name']) \n",
        "Train.shape\n",
        "\n",
        "from sklearn.model_selection import train_test_split \n",
        "Train_set , Test_set = train_test_split(Train , test_size = 0.2 , random_state = 42)\n",
        "\n",
        "# from sklearn.preprocessing import OneHotEncoder  \n",
        "\n",
        "# onehotencoder = OneHotEncoder()\n",
        "# onehotencoder.fit_transform(Train['route_type'].values.reshape(-1,1))  \n",
        "\n",
        "Train_set.shape"
      ],
      "metadata": {
        "colab": {
          "base_uri": "https://localhost:8080/"
        },
        "id": "taqoDiWu9PYo",
        "outputId": "3df68929-7dda-4879-fc90-0a65e13d987a"
      },
      "execution_count": 18,
      "outputs": [
        {
          "output_type": "execute_result",
          "data": {
            "text/plain": [
              "(35516, 13)"
            ]
          },
          "metadata": {},
          "execution_count": 18
        }
      ]
    },
    {
      "cell_type": "code",
      "source": [
        "correlation_matrix = Train_set.corr()['actual_time'].sort_values(ascending = True)\n",
        "correlation_matrix"
      ],
      "metadata": {
        "colab": {
          "base_uri": "https://localhost:8080/"
        },
        "id": "hwF8PIX5CrfR",
        "outputId": "7541941d-bd9e-48f9-ec4a-de1a59880434"
      },
      "execution_count": 19,
      "outputs": [
        {
          "output_type": "execute_result",
          "data": {
            "text/plain": [
              "segment_factor                    0.017721\n",
              "factor                            0.032498\n",
              "segment_actual_time               0.123768\n",
              "segment_osrm_time                 0.159223\n",
              "is_cutoff                         0.163024\n",
              "segment_osrm_distance             0.212046\n",
              "osrm_time                         0.723950\n",
              "osrm_distance                     0.725209\n",
              "start_scan_to_end_scan            0.775596\n",
              "actual_distance_to_destination    0.968643\n",
              "cutoff_factor                     0.979058\n",
              "actual_time                       1.000000\n",
              "Name: actual_time, dtype: float64"
            ]
          },
          "metadata": {},
          "execution_count": 19
        }
      ]
    },
    {
      "cell_type": "code",
      "source": [
        "from sklearn.base import BaseEstimator , TransformerMixin \n",
        "\n",
        "class Dataframeselector():\n",
        "  def __init__(self , attribute_names):\n",
        "    self.attr = attribute_names \n",
        "\n",
        "  def fit(self , x , y = None):\n",
        "    return self\n",
        "  \n",
        "  def transform(self , x):\n",
        "    return x[self.attr].values"
      ],
      "metadata": {
        "id": "3oT3-ShlE6A6"
      },
      "execution_count": 20,
      "outputs": []
    },
    {
      "cell_type": "code",
      "source": [
        "num_attr = ['start_scan_to_end_scan', 'cutoff_factor',\n",
        "       'actual_distance_to_destination', 'osrm_time', 'osrm_distance',\n",
        "       'factor', 'segment_actual_time', 'segment_osrm_time',\n",
        "       'segment_osrm_distance', 'segment_factor']\n",
        "\n",
        "a = Dataframeselector(num_attr)\n",
        "a.fit(Train_set)  \n",
        "a.transform(Train_set)\n",
        "\n",
        "print(a)"
      ],
      "metadata": {
        "colab": {
          "base_uri": "https://localhost:8080/"
        },
        "id": "3wIDXUIiHSKp",
        "outputId": "c511eb84-3ba0-43f3-ccaa-dccc55bef35c"
      },
      "execution_count": 21,
      "outputs": [
        {
          "output_type": "stream",
          "name": "stdout",
          "text": [
            "<__main__.Dataframeselector object at 0x7efed7d15c70>\n"
          ]
        }
      ]
    },
    {
      "cell_type": "code",
      "source": [
        "from sklearn.preprocessing import StandardScaler , MinMaxScaler , OneHotEncoder \n",
        "from sklearn.pipeline import Pipeline , FeatureUnion\n",
        "\n",
        "num_attr = ['start_scan_to_end_scan', 'cutoff_factor',\n",
        "       'actual_distance_to_destination', 'osrm_time', 'osrm_distance',\n",
        "       'factor', 'segment_actual_time', 'segment_osrm_time',\n",
        "       'segment_osrm_distance', 'segment_factor']\n",
        "cat_attr = ['route_type' , 'is_cutoff'] \n",
        "\n",
        "num_pipeline = Pipeline([\n",
        "    ('selector' , Dataframeselector(num_attr)),\n",
        "    ('scaler' , StandardScaler())\n",
        "])\n",
        "\n",
        "cat_pipeline = Pipeline([\n",
        "    ('selector' , Dataframeselector(cat_attr)),\n",
        "    ('encoder' , OneHotEncoder())\n",
        "])\n",
        "\n",
        "full_pipeline = FeatureUnion(transformer_list = [('num_pipeline' , num_pipeline) , ('cat_pipeline' , cat_pipeline)])\n",
        "\n",
        "training_x = full_pipeline.fit_transform(Train_set)\n",
        "testing_x = full_pipeline.fit_transform(Test_set) \n",
        "training_y = Train_set['actual_time'].values \n",
        "testing_y = Test_set['actual_time'].values "
      ],
      "metadata": {
        "id": "M1oo8k3LAahS"
      },
      "execution_count": 22,
      "outputs": []
    },
    {
      "cell_type": "code",
      "source": [
        "FinalTesting_x = full_pipeline.fit_transform(Test_csv) \n",
        "\n",
        "FinalTesting_x"
      ],
      "metadata": {
        "id": "qIk47Qw7W_V6",
        "colab": {
          "base_uri": "https://localhost:8080/"
        },
        "outputId": "2c3556aa-476b-4794-be10-1d0c1c13d9ac"
      },
      "execution_count": 23,
      "outputs": [
        {
          "output_type": "execute_result",
          "data": {
            "text/plain": [
              "<72158x14 sparse matrix of type '<class 'numpy.float64'>'\n",
              "\twith 865896 stored elements in Compressed Sparse Row format>"
            ]
          },
          "metadata": {},
          "execution_count": 23
        }
      ]
    },
    {
      "cell_type": "code",
      "source": [
        "# import seaborn as sns \n",
        "\n",
        "# sns.displot(data = df_train , hue = 'route_type' , x = 'actual_time') "
      ],
      "metadata": {
        "id": "74Ni0utCVqk1"
      },
      "execution_count": 24,
      "outputs": []
    },
    {
      "cell_type": "code",
      "source": [
        "# px.scatter?"
      ],
      "metadata": {
        "id": "Z6NzmyT2aWK4"
      },
      "execution_count": 25,
      "outputs": []
    },
    {
      "cell_type": "code",
      "source": [
        "# import plotly.express as px \n",
        "\n",
        "# fig = px.scatter(df_train , x = 'segment_factor' , y = 'actual_time' , template = 'plotly_dark')\n",
        "# fig.show()\n",
        "\n",
        "# #sns.scatterplot(data = df_train , x = 'start_scan_to_end_scan' , y = 'actual_time')"
      ],
      "metadata": {
        "id": "23vhgUz3Yi9R"
      },
      "execution_count": 26,
      "outputs": []
    },
    {
      "cell_type": "code",
      "source": [
        "# px.histogram(df_train , x = 'actual_time' , color = 'is_cutoff' , template = 'plotly_dark' , barmode = 'group' , nbins = 100 )"
      ],
      "metadata": {
        "id": "6xhWV4YXcEg4"
      },
      "execution_count": 27,
      "outputs": []
    },
    {
      "cell_type": "code",
      "source": [
        "# px.histogram(df_train , x = 'actual_time' , color = 'route_type' , template = 'plotly_dark' , barmode = 'group' , nbins = 100 )"
      ],
      "metadata": {
        "id": "U516UGeBd1SS"
      },
      "execution_count": 28,
      "outputs": []
    },
    {
      "cell_type": "code",
      "source": [
        "# df_final = pd.DataFrame(data = df_train , columns = corr_matrix.index)\n",
        "\n",
        "# df_final.head()"
      ],
      "metadata": {
        "id": "9yNpbxEidbY0"
      },
      "execution_count": 29,
      "outputs": []
    },
    {
      "cell_type": "code",
      "source": [
        "from sklearn.linear_model import LinearRegression as linreg  \n",
        "\n",
        "def training(model):\n",
        "  regressor = model()\n",
        "  regressor.fit(training_x , training_y)\n",
        "\n",
        "  return regressor  \n",
        "\n",
        "lin_regressor = training(linreg) \n",
        "lin_regressor"
      ],
      "metadata": {
        "colab": {
          "base_uri": "https://localhost:8080/",
          "height": 75
        },
        "id": "_SE8Wt9WJi5C",
        "outputId": "d8e58487-6dd5-47af-f0cc-ca4b1f2b653b"
      },
      "execution_count": 30,
      "outputs": [
        {
          "output_type": "execute_result",
          "data": {
            "text/plain": [
              "LinearRegression()"
            ],
            "text/html": [
              "<style>#sk-container-id-1 {color: black;background-color: white;}#sk-container-id-1 pre{padding: 0;}#sk-container-id-1 div.sk-toggleable {background-color: white;}#sk-container-id-1 label.sk-toggleable__label {cursor: pointer;display: block;width: 100%;margin-bottom: 0;padding: 0.3em;box-sizing: border-box;text-align: center;}#sk-container-id-1 label.sk-toggleable__label-arrow:before {content: \"▸\";float: left;margin-right: 0.25em;color: #696969;}#sk-container-id-1 label.sk-toggleable__label-arrow:hover:before {color: black;}#sk-container-id-1 div.sk-estimator:hover label.sk-toggleable__label-arrow:before {color: black;}#sk-container-id-1 div.sk-toggleable__content {max-height: 0;max-width: 0;overflow: hidden;text-align: left;background-color: #f0f8ff;}#sk-container-id-1 div.sk-toggleable__content pre {margin: 0.2em;color: black;border-radius: 0.25em;background-color: #f0f8ff;}#sk-container-id-1 input.sk-toggleable__control:checked~div.sk-toggleable__content {max-height: 200px;max-width: 100%;overflow: auto;}#sk-container-id-1 input.sk-toggleable__control:checked~label.sk-toggleable__label-arrow:before {content: \"▾\";}#sk-container-id-1 div.sk-estimator input.sk-toggleable__control:checked~label.sk-toggleable__label {background-color: #d4ebff;}#sk-container-id-1 div.sk-label input.sk-toggleable__control:checked~label.sk-toggleable__label {background-color: #d4ebff;}#sk-container-id-1 input.sk-hidden--visually {border: 0;clip: rect(1px 1px 1px 1px);clip: rect(1px, 1px, 1px, 1px);height: 1px;margin: -1px;overflow: hidden;padding: 0;position: absolute;width: 1px;}#sk-container-id-1 div.sk-estimator {font-family: monospace;background-color: #f0f8ff;border: 1px dotted black;border-radius: 0.25em;box-sizing: border-box;margin-bottom: 0.5em;}#sk-container-id-1 div.sk-estimator:hover {background-color: #d4ebff;}#sk-container-id-1 div.sk-parallel-item::after {content: \"\";width: 100%;border-bottom: 1px solid gray;flex-grow: 1;}#sk-container-id-1 div.sk-label:hover label.sk-toggleable__label {background-color: #d4ebff;}#sk-container-id-1 div.sk-serial::before {content: \"\";position: absolute;border-left: 1px solid gray;box-sizing: border-box;top: 0;bottom: 0;left: 50%;z-index: 0;}#sk-container-id-1 div.sk-serial {display: flex;flex-direction: column;align-items: center;background-color: white;padding-right: 0.2em;padding-left: 0.2em;position: relative;}#sk-container-id-1 div.sk-item {position: relative;z-index: 1;}#sk-container-id-1 div.sk-parallel {display: flex;align-items: stretch;justify-content: center;background-color: white;position: relative;}#sk-container-id-1 div.sk-item::before, #sk-container-id-1 div.sk-parallel-item::before {content: \"\";position: absolute;border-left: 1px solid gray;box-sizing: border-box;top: 0;bottom: 0;left: 50%;z-index: -1;}#sk-container-id-1 div.sk-parallel-item {display: flex;flex-direction: column;z-index: 1;position: relative;background-color: white;}#sk-container-id-1 div.sk-parallel-item:first-child::after {align-self: flex-end;width: 50%;}#sk-container-id-1 div.sk-parallel-item:last-child::after {align-self: flex-start;width: 50%;}#sk-container-id-1 div.sk-parallel-item:only-child::after {width: 0;}#sk-container-id-1 div.sk-dashed-wrapped {border: 1px dashed gray;margin: 0 0.4em 0.5em 0.4em;box-sizing: border-box;padding-bottom: 0.4em;background-color: white;}#sk-container-id-1 div.sk-label label {font-family: monospace;font-weight: bold;display: inline-block;line-height: 1.2em;}#sk-container-id-1 div.sk-label-container {text-align: center;}#sk-container-id-1 div.sk-container {/* jupyter's `normalize.less` sets `[hidden] { display: none; }` but bootstrap.min.css set `[hidden] { display: none !important; }` so we also need the `!important` here to be able to override the default hidden behavior on the sphinx rendered scikit-learn.org. See: https://github.com/scikit-learn/scikit-learn/issues/21755 */display: inline-block !important;position: relative;}#sk-container-id-1 div.sk-text-repr-fallback {display: none;}</style><div id=\"sk-container-id-1\" class=\"sk-top-container\"><div class=\"sk-text-repr-fallback\"><pre>LinearRegression()</pre><b>In a Jupyter environment, please rerun this cell to show the HTML representation or trust the notebook. <br />On GitHub, the HTML representation is unable to render, please try loading this page with nbviewer.org.</b></div><div class=\"sk-container\" hidden><div class=\"sk-item\"><div class=\"sk-estimator sk-toggleable\"><input class=\"sk-toggleable__control sk-hidden--visually\" id=\"sk-estimator-id-1\" type=\"checkbox\" checked><label for=\"sk-estimator-id-1\" class=\"sk-toggleable__label sk-toggleable__label-arrow\">LinearRegression</label><div class=\"sk-toggleable__content\"><pre>LinearRegression()</pre></div></div></div></div></div>"
            ]
          },
          "metadata": {},
          "execution_count": 30
        }
      ]
    },
    {
      "cell_type": "code",
      "source": [
        "import numpy as np\n",
        "\n",
        "from sklearn.metrics import mean_squared_error  \n",
        "\n",
        "def score(model , X , Y):\n",
        "  predictions = model.predict(X) \n",
        "  mse = mean_squared_error(Y , predictions) \n",
        "  score = np.sqrt(mse) \n",
        "\n",
        "  return score \n",
        "\n",
        "training_score = score(lin_regressor , training_x , training_y)\n",
        "test_score = score(lin_regressor , testing_x , testing_y) \n",
        "\n",
        "print(training_score , test_score)"
      ],
      "metadata": {
        "colab": {
          "base_uri": "https://localhost:8080/"
        },
        "id": "lwJUg72iLuQv",
        "outputId": "6cf1bf33-08a1-4119-b01d-708c240023e2"
      },
      "execution_count": 31,
      "outputs": [
        {
          "output_type": "stream",
          "name": "stdout",
          "text": [
            "105.31011655769139 107.51177782259602\n"
          ]
        }
      ]
    },
    {
      "cell_type": "code",
      "source": [
        "def submission(values , name):\n",
        "  submission = pd.DataFrame({'UID' : test_csv['UID'].values , 'actual_time' : values}) \n",
        "  submission.to_csv(name , index = False)"
      ],
      "metadata": {
        "id": "Twrw8sfHXZw7"
      },
      "execution_count": 32,
      "outputs": []
    },
    {
      "cell_type": "code",
      "source": [
        "# FINE TUNING THE MODEL  \n",
        "\n",
        "from sklearn.model_selection import GridSearchCV \n",
        "\n",
        "def finetune(model , params_grid):\n",
        "    grid_search = GridSearchCV(model, params_grid , cv = 5 , scoring = 'neg_mean_squared_error') \n",
        "    grid_search.fit(training_x.toarray() , training_y) \n",
        "    print(grid_search.best_params_)\n",
        "\n",
        "    return grid_search"
      ],
      "metadata": {
        "id": "TL80tBswMMKl"
      },
      "execution_count": 33,
      "outputs": []
    },
    {
      "cell_type": "code",
      "source": [
        "lin_regressor.intercept_"
      ],
      "metadata": {
        "colab": {
          "base_uri": "https://localhost:8080/"
        },
        "id": "n5diakRKM0Dx",
        "outputId": "c0e686aa-10c8-40f0-c250-d652008eb18e"
      },
      "execution_count": 34,
      "outputs": [
        {
          "output_type": "execute_result",
          "data": {
            "text/plain": [
              "431.4792583081252"
            ]
          },
          "metadata": {},
          "execution_count": 34
        }
      ]
    },
    {
      "cell_type": "code",
      "source": [
        "lin_regressor.score(testing_x , testing_y)"
      ],
      "metadata": {
        "colab": {
          "base_uri": "https://localhost:8080/"
        },
        "id": "bOCATJfiNhHk",
        "outputId": "e0895e2e-b00a-440a-bc57-9119cd980f22"
      },
      "execution_count": 35,
      "outputs": [
        {
          "output_type": "execute_result",
          "data": {
            "text/plain": [
              "0.9680008721860754"
            ]
          },
          "metadata": {},
          "execution_count": 35
        }
      ]
    },
    {
      "cell_type": "code",
      "source": [
        "param_grid = [{'positive' : [True]} , {'positive' : [False]}]\n",
        "\n",
        "linear_reg = linreg()\n",
        "finetune(linear_reg , param_grid)"
      ],
      "metadata": {
        "colab": {
          "base_uri": "https://localhost:8080/",
          "height": 135
        },
        "id": "ar8OS97DPm7n",
        "outputId": "566a9e46-685c-48c7-b2d5-c6ab1b76a35d"
      },
      "execution_count": 36,
      "outputs": [
        {
          "output_type": "stream",
          "name": "stdout",
          "text": [
            "{'positive': False}\n"
          ]
        },
        {
          "output_type": "execute_result",
          "data": {
            "text/plain": [
              "GridSearchCV(cv=5, estimator=LinearRegression(),\n",
              "             param_grid=[{'positive': [True]}, {'positive': [False]}],\n",
              "             scoring='neg_mean_squared_error')"
            ],
            "text/html": [
              "<style>#sk-container-id-2 {color: black;background-color: white;}#sk-container-id-2 pre{padding: 0;}#sk-container-id-2 div.sk-toggleable {background-color: white;}#sk-container-id-2 label.sk-toggleable__label {cursor: pointer;display: block;width: 100%;margin-bottom: 0;padding: 0.3em;box-sizing: border-box;text-align: center;}#sk-container-id-2 label.sk-toggleable__label-arrow:before {content: \"▸\";float: left;margin-right: 0.25em;color: #696969;}#sk-container-id-2 label.sk-toggleable__label-arrow:hover:before {color: black;}#sk-container-id-2 div.sk-estimator:hover label.sk-toggleable__label-arrow:before {color: black;}#sk-container-id-2 div.sk-toggleable__content {max-height: 0;max-width: 0;overflow: hidden;text-align: left;background-color: #f0f8ff;}#sk-container-id-2 div.sk-toggleable__content pre {margin: 0.2em;color: black;border-radius: 0.25em;background-color: #f0f8ff;}#sk-container-id-2 input.sk-toggleable__control:checked~div.sk-toggleable__content {max-height: 200px;max-width: 100%;overflow: auto;}#sk-container-id-2 input.sk-toggleable__control:checked~label.sk-toggleable__label-arrow:before {content: \"▾\";}#sk-container-id-2 div.sk-estimator input.sk-toggleable__control:checked~label.sk-toggleable__label {background-color: #d4ebff;}#sk-container-id-2 div.sk-label input.sk-toggleable__control:checked~label.sk-toggleable__label {background-color: #d4ebff;}#sk-container-id-2 input.sk-hidden--visually {border: 0;clip: rect(1px 1px 1px 1px);clip: rect(1px, 1px, 1px, 1px);height: 1px;margin: -1px;overflow: hidden;padding: 0;position: absolute;width: 1px;}#sk-container-id-2 div.sk-estimator {font-family: monospace;background-color: #f0f8ff;border: 1px dotted black;border-radius: 0.25em;box-sizing: border-box;margin-bottom: 0.5em;}#sk-container-id-2 div.sk-estimator:hover {background-color: #d4ebff;}#sk-container-id-2 div.sk-parallel-item::after {content: \"\";width: 100%;border-bottom: 1px solid gray;flex-grow: 1;}#sk-container-id-2 div.sk-label:hover label.sk-toggleable__label {background-color: #d4ebff;}#sk-container-id-2 div.sk-serial::before {content: \"\";position: absolute;border-left: 1px solid gray;box-sizing: border-box;top: 0;bottom: 0;left: 50%;z-index: 0;}#sk-container-id-2 div.sk-serial {display: flex;flex-direction: column;align-items: center;background-color: white;padding-right: 0.2em;padding-left: 0.2em;position: relative;}#sk-container-id-2 div.sk-item {position: relative;z-index: 1;}#sk-container-id-2 div.sk-parallel {display: flex;align-items: stretch;justify-content: center;background-color: white;position: relative;}#sk-container-id-2 div.sk-item::before, #sk-container-id-2 div.sk-parallel-item::before {content: \"\";position: absolute;border-left: 1px solid gray;box-sizing: border-box;top: 0;bottom: 0;left: 50%;z-index: -1;}#sk-container-id-2 div.sk-parallel-item {display: flex;flex-direction: column;z-index: 1;position: relative;background-color: white;}#sk-container-id-2 div.sk-parallel-item:first-child::after {align-self: flex-end;width: 50%;}#sk-container-id-2 div.sk-parallel-item:last-child::after {align-self: flex-start;width: 50%;}#sk-container-id-2 div.sk-parallel-item:only-child::after {width: 0;}#sk-container-id-2 div.sk-dashed-wrapped {border: 1px dashed gray;margin: 0 0.4em 0.5em 0.4em;box-sizing: border-box;padding-bottom: 0.4em;background-color: white;}#sk-container-id-2 div.sk-label label {font-family: monospace;font-weight: bold;display: inline-block;line-height: 1.2em;}#sk-container-id-2 div.sk-label-container {text-align: center;}#sk-container-id-2 div.sk-container {/* jupyter's `normalize.less` sets `[hidden] { display: none; }` but bootstrap.min.css set `[hidden] { display: none !important; }` so we also need the `!important` here to be able to override the default hidden behavior on the sphinx rendered scikit-learn.org. See: https://github.com/scikit-learn/scikit-learn/issues/21755 */display: inline-block !important;position: relative;}#sk-container-id-2 div.sk-text-repr-fallback {display: none;}</style><div id=\"sk-container-id-2\" class=\"sk-top-container\"><div class=\"sk-text-repr-fallback\"><pre>GridSearchCV(cv=5, estimator=LinearRegression(),\n",
              "             param_grid=[{&#x27;positive&#x27;: [True]}, {&#x27;positive&#x27;: [False]}],\n",
              "             scoring=&#x27;neg_mean_squared_error&#x27;)</pre><b>In a Jupyter environment, please rerun this cell to show the HTML representation or trust the notebook. <br />On GitHub, the HTML representation is unable to render, please try loading this page with nbviewer.org.</b></div><div class=\"sk-container\" hidden><div class=\"sk-item sk-dashed-wrapped\"><div class=\"sk-label-container\"><div class=\"sk-label sk-toggleable\"><input class=\"sk-toggleable__control sk-hidden--visually\" id=\"sk-estimator-id-2\" type=\"checkbox\" ><label for=\"sk-estimator-id-2\" class=\"sk-toggleable__label sk-toggleable__label-arrow\">GridSearchCV</label><div class=\"sk-toggleable__content\"><pre>GridSearchCV(cv=5, estimator=LinearRegression(),\n",
              "             param_grid=[{&#x27;positive&#x27;: [True]}, {&#x27;positive&#x27;: [False]}],\n",
              "             scoring=&#x27;neg_mean_squared_error&#x27;)</pre></div></div></div><div class=\"sk-parallel\"><div class=\"sk-parallel-item\"><div class=\"sk-item\"><div class=\"sk-label-container\"><div class=\"sk-label sk-toggleable\"><input class=\"sk-toggleable__control sk-hidden--visually\" id=\"sk-estimator-id-3\" type=\"checkbox\" ><label for=\"sk-estimator-id-3\" class=\"sk-toggleable__label sk-toggleable__label-arrow\">estimator: LinearRegression</label><div class=\"sk-toggleable__content\"><pre>LinearRegression()</pre></div></div></div><div class=\"sk-serial\"><div class=\"sk-item\"><div class=\"sk-estimator sk-toggleable\"><input class=\"sk-toggleable__control sk-hidden--visually\" id=\"sk-estimator-id-4\" type=\"checkbox\" ><label for=\"sk-estimator-id-4\" class=\"sk-toggleable__label sk-toggleable__label-arrow\">LinearRegression</label><div class=\"sk-toggleable__content\"><pre>LinearRegression()</pre></div></div></div></div></div></div></div></div></div></div>"
            ]
          },
          "metadata": {},
          "execution_count": 36
        }
      ]
    },
    {
      "cell_type": "code",
      "source": [
        "submission1 = np.concatenate([lin_regressor.predict(training_x) , lin_regressor.predict(testing_x)]) \n",
        "submission1.shape\n",
        "\n",
        "actual_y = np.concatenate([training_y , testing_y])\n",
        "actual_y.shape"
      ],
      "metadata": {
        "colab": {
          "base_uri": "https://localhost:8080/"
        },
        "id": "2M9c4ihXTkWV",
        "outputId": "688e2820-1435-4ddb-a029-7ef303b9733e"
      },
      "execution_count": 37,
      "outputs": [
        {
          "output_type": "execute_result",
          "data": {
            "text/plain": [
              "(44396,)"
            ]
          },
          "metadata": {},
          "execution_count": 37
        }
      ]
    },
    {
      "cell_type": "code",
      "source": [
        "testing1 = lin_regressor.predict(FinalTesting_x) \n",
        "testing1.shape"
      ],
      "metadata": {
        "colab": {
          "base_uri": "https://localhost:8080/"
        },
        "id": "27udzjGTTRtq",
        "outputId": "9d0ca2a7-63c6-472d-fb96-c82413b79918"
      },
      "execution_count": 59,
      "outputs": [
        {
          "output_type": "execute_result",
          "data": {
            "text/plain": [
              "(72158,)"
            ]
          },
          "metadata": {},
          "execution_count": 59
        }
      ]
    },
    {
      "cell_type": "code",
      "source": [
        "submission(lin_regressor.predict(FinalTesting_x) , 'submission1.csv')"
      ],
      "metadata": {
        "id": "f6wDwituSg67"
      },
      "execution_count": 38,
      "outputs": []
    },
    {
      "cell_type": "markdown",
      "source": [
        "**DECISION TREE REGRESSOR** "
      ],
      "metadata": {
        "id": "fv-pMbSqUobD"
      }
    },
    {
      "cell_type": "code",
      "source": [
        "from sklearn.tree import DecisionTreeRegressor as treereg \n",
        "\n",
        "tree_regressor = treereg(max_depth = 10) \n",
        "tree_regressor.fit(training_x , training_y)\n",
        "\n",
        "training_score = score(tree_regressor , training_x , training_y) \n",
        "test_score = score(tree_regressor , testing_x , testing_y) \n",
        "\n",
        "print(training_score , test_score)"
      ],
      "metadata": {
        "colab": {
          "base_uri": "https://localhost:8080/"
        },
        "id": "HiBruRC2MSfN",
        "outputId": "8b71892d-c002-46a3-cc7f-c883cca63513"
      },
      "execution_count": 39,
      "outputs": [
        {
          "output_type": "stream",
          "name": "stdout",
          "text": [
            "60.18226519410798 99.68477333356402\n"
          ]
        }
      ]
    },
    {
      "cell_type": "code",
      "source": [
        "# # FINE TUNING THE MODEL \n",
        "\n",
        "# tree_reg = treereg()\n",
        "\n",
        "# hyperparameters = {'max_depth': [2, 4, 6, 8, 10],\n",
        "#                    'min_samples_split': [2, 4, 6],\n",
        "#                    'min_samples_leaf': [1, 2, 4],\n",
        "#                    'max_leaf_nodes': [2, 4, 8],\n",
        "#                    'min_weight_fraction_leaf': [0.0, 0.1],\n",
        "#                    'max_features': [1.0, 'sqrt', 'log2']} \n",
        "\n",
        "# finetune(tree_reg , hyperparameters) "
      ],
      "metadata": {
        "id": "yze_7Up0VXE6"
      },
      "execution_count": 40,
      "outputs": []
    },
    {
      "cell_type": "code",
      "source": [
        "# new_treereg = treereg(max_depth = 10 , max_features = 1.0, max_leaf_nodes = 8, min_samples_leaf = 1, min_samples_split =  2, min_weight_fraction_leaf = 0.0)\n",
        "# new_treereg.fit(training_x , training_y) \n",
        "\n",
        "# training_score = score(new_treereg , training_x , training_y) \n",
        "# test_score = score(new_treereg , testing_x , testing_y) \n",
        "\n",
        "# print(training_score , test_score)"
      ],
      "metadata": {
        "id": "MZ4xBUdIXzPI"
      },
      "execution_count": 41,
      "outputs": []
    },
    {
      "cell_type": "code",
      "source": [
        "submission2 = np.concatenate([tree_regressor.predict(training_x) , tree_regressor.predict(testing_x)])\n",
        "submission2.shape"
      ],
      "metadata": {
        "colab": {
          "base_uri": "https://localhost:8080/"
        },
        "id": "nvKpm22nZB5c",
        "outputId": "9ef7fcd8-d320-4812-bc2f-b9ea140351c4"
      },
      "execution_count": 42,
      "outputs": [
        {
          "output_type": "execute_result",
          "data": {
            "text/plain": [
              "(44396,)"
            ]
          },
          "metadata": {},
          "execution_count": 42
        }
      ]
    },
    {
      "cell_type": "code",
      "source": [
        "testing2 = tree_regressor.predict(FinalTesting_x)\n",
        "testing2.shape"
      ],
      "metadata": {
        "colab": {
          "base_uri": "https://localhost:8080/"
        },
        "id": "tMOpVz92TcpB",
        "outputId": "de8d83f3-8cd4-485d-e280-47134439a87d"
      },
      "execution_count": 60,
      "outputs": [
        {
          "output_type": "execute_result",
          "data": {
            "text/plain": [
              "(72158,)"
            ]
          },
          "metadata": {},
          "execution_count": 60
        }
      ]
    },
    {
      "cell_type": "code",
      "source": [
        "submission(tree_regressor.predict(FinalTesting_x)  , 'decisiontree.csv')"
      ],
      "metadata": {
        "id": "dxxfbQz5XLA0"
      },
      "execution_count": 43,
      "outputs": []
    },
    {
      "cell_type": "markdown",
      "source": [
        "**SVR**"
      ],
      "metadata": {
        "id": "jxZqyY1IZ3Dg"
      }
    },
    {
      "cell_type": "code",
      "source": [
        "from sklearn.svm import SVR , LinearSVR\n",
        "\n",
        "sv_regressor = LinearSVR()\n",
        "sv_regressor.fit(training_x , training_y)\n",
        "#sv_regressor = training(s) \n",
        "\n",
        "training_score = score(sv_regressor , training_x , training_y) \n",
        "test_score = score(sv_regressor , testing_x , testing_y)\n",
        "\n",
        "print(training_score , test_score)"
      ],
      "metadata": {
        "colab": {
          "base_uri": "https://localhost:8080/"
        },
        "id": "MV1deon4Q3p6",
        "outputId": "8c3dbd51-9336-4363-e33b-e8fdf7e5830c"
      },
      "execution_count": 44,
      "outputs": [
        {
          "output_type": "stream",
          "name": "stdout",
          "text": [
            "109.0589427520288 109.68447509643948\n"
          ]
        }
      ]
    },
    {
      "cell_type": "code",
      "source": [
        "#FINE TUNE THE MODEL \n",
        "\n",
        "# sv_reg = LinearSVR() \n",
        "\n",
        "# hyperparameters = {'C': [0.1, 1, 10],\n",
        "#                    'epsilon': [0.01, 0.1, 1],\n",
        "#                    'tol': [1e-4, 1e-3, 1e-2]}\n",
        "\n",
        "\n",
        "finetuned_svregressor = LinearSVR(C = 10 , epsilon = 0.1 , tol = 0.001) \n",
        "finetuned_svregressor.fit(training_x , training_y) \n",
        "\n",
        "training_score = score(finetuned_svregressor , training_x , training_y) \n",
        "test_score = score(finetuned_svregressor , testing_x , testing_y)\n",
        "\n",
        "print(training_score , test_score) "
      ],
      "metadata": {
        "colab": {
          "base_uri": "https://localhost:8080/"
        },
        "id": "9Cux9rVJae-a",
        "outputId": "3d04dc36-926c-43a5-90af-4fdde1603155"
      },
      "execution_count": 45,
      "outputs": [
        {
          "output_type": "stream",
          "name": "stdout",
          "text": [
            "{'C': 10, 'epsilon': 0.1, 'tol': 0.001}\n",
            "108.65183065503598 109.41279505122468\n"
          ]
        }
      ]
    },
    {
      "cell_type": "code",
      "source": [
        "submission3 = np.concatenate([finetuned_svregressor.predict(training_x) , finetuned_svregressor.predict(testing_x)]) \n",
        "submission3.shape"
      ],
      "metadata": {
        "colab": {
          "base_uri": "https://localhost:8080/"
        },
        "id": "rCVm0g5AbkLN",
        "outputId": "fe77dc6f-47b1-4946-8ed1-c976514a3a31"
      },
      "execution_count": 46,
      "outputs": [
        {
          "output_type": "execute_result",
          "data": {
            "text/plain": [
              "(44396,)"
            ]
          },
          "metadata": {},
          "execution_count": 46
        }
      ]
    },
    {
      "cell_type": "code",
      "source": [
        "testing3 = finetuned_svregressor.predict(FinalTesting_x)\n",
        "testing3.shape"
      ],
      "metadata": {
        "colab": {
          "base_uri": "https://localhost:8080/"
        },
        "id": "1ECYfR4rTm8V",
        "outputId": "aa654fba-65f8-4a7c-c938-ff2ec1333b13"
      },
      "execution_count": 61,
      "outputs": [
        {
          "output_type": "execute_result",
          "data": {
            "text/plain": [
              "(72158,)"
            ]
          },
          "metadata": {},
          "execution_count": 61
        }
      ]
    },
    {
      "cell_type": "code",
      "source": [
        "submission(finetuned_svregressor.predict(FinalTesting_x) , 'svr.csv')"
      ],
      "metadata": {
        "id": "dhzLlpImb2aw"
      },
      "execution_count": null,
      "outputs": []
    },
    {
      "cell_type": "markdown",
      "source": [
        "**RANDOM FOREST REGRESSOR** "
      ],
      "metadata": {
        "id": "hz1Dsg_7jEA2"
      }
    },
    {
      "cell_type": "code",
      "source": [
        "from sklearn.ensemble import RandomForestRegressor as forestreg \n",
        "\n",
        "forest_regressor = forestreg(max_depth = 10)\n",
        "forest_regressor.fit(training_x , training_y)\n",
        "\n",
        "training_score = score(forest_regressor , training_x , training_y) \n",
        "test_score = score(forest_regressor , testing_x , testing_y) \n",
        "\n",
        "print(training_score , test_score)"
      ],
      "metadata": {
        "colab": {
          "base_uri": "https://localhost:8080/"
        },
        "id": "LdqlmDXxNJec",
        "outputId": "cd89c5d3-2c93-4ac6-9423-8b639bca39ca"
      },
      "execution_count": 47,
      "outputs": [
        {
          "output_type": "stream",
          "name": "stdout",
          "text": [
            "56.090958300838196 81.71261642200169\n"
          ]
        }
      ]
    },
    {
      "cell_type": "code",
      "source": [
        "# FINE TUNING THE MODEL \n",
        "\n",
        "# finetuned_forest = forestreg()\n",
        "\n",
        "# hyperparameters = {'n_estimators': [100, 200],\n",
        "#                    'max_depth': [ 5 , 10],\n",
        "#                    'min_samples_split': [2, 5]} \n",
        "\n",
        "# finetuned_forest = finetune(finetuned_forest , hyperparameters).best_estimator_ \n",
        "# finetuned_forest.fit(training_x , training_y) \n",
        "\n",
        "# training_score = score(finetuned_forest , training_x , training_y) \n",
        "# test_score = score(finetuned_forest , testing_x , testing_y)\n",
        "\n",
        "# print(training_score , test_score)"
      ],
      "metadata": {
        "id": "vQHVcOyojgAs"
      },
      "execution_count": null,
      "outputs": []
    },
    {
      "cell_type": "code",
      "source": [
        "submission5 = np.concatenate([forest_regressor.predict(training_x) , forest_regressor.predict(testing_x)])\n",
        "submission5.shape"
      ],
      "metadata": {
        "colab": {
          "base_uri": "https://localhost:8080/"
        },
        "id": "TOvYYlgnklBO",
        "outputId": "fa031778-b1c2-410e-a9a3-be6a42c9cfa2"
      },
      "execution_count": 48,
      "outputs": [
        {
          "output_type": "execute_result",
          "data": {
            "text/plain": [
              "(44396,)"
            ]
          },
          "metadata": {},
          "execution_count": 48
        }
      ]
    },
    {
      "cell_type": "code",
      "source": [
        "testing5 = forest_regressor.predict(FinalTesting_x)\n",
        "testing5.shape"
      ],
      "metadata": {
        "colab": {
          "base_uri": "https://localhost:8080/"
        },
        "id": "3PzJ7B6dTykD",
        "outputId": "1e00c708-93b8-4da4-a8a7-5a0053774900"
      },
      "execution_count": 62,
      "outputs": [
        {
          "output_type": "execute_result",
          "data": {
            "text/plain": [
              "(72158,)"
            ]
          },
          "metadata": {},
          "execution_count": 62
        }
      ]
    },
    {
      "cell_type": "code",
      "source": [
        "submission(forest_regressor.predict(FinalTesting_x) , 'randomforest.csv')"
      ],
      "metadata": {
        "id": "4DJfN--Ho3uG"
      },
      "execution_count": null,
      "outputs": []
    },
    {
      "cell_type": "markdown",
      "source": [
        "**XGBOOST REGRESSION**"
      ],
      "metadata": {
        "id": "hhL1W1hFnKFz"
      }
    },
    {
      "cell_type": "code",
      "source": [
        "import xgboost as xgb  \n",
        "\n",
        "regressor=xgb.XGBRegressor(max_depth = 5 , eval_metric = 'rmse') \n",
        "regressor.fit(training_x , training_y) \n",
        "\n",
        "training_score = score(regressor , training_x , training_y) \n",
        "test_score = score(regressor , testing_x , testing_y) \n",
        "\n",
        "print(training_score , test_score)"
      ],
      "metadata": {
        "colab": {
          "base_uri": "https://localhost:8080/"
        },
        "id": "pOVwlaJNnQb6",
        "outputId": "b17b4e8c-73ee-43e6-e901-d2755e902c62"
      },
      "execution_count": 49,
      "outputs": [
        {
          "output_type": "stream",
          "name": "stdout",
          "text": [
            "55.09058599850395 82.13251740022179\n"
          ]
        }
      ]
    },
    {
      "cell_type": "code",
      "source": [
        "# FINE TUNING THE MODEL \n",
        "\n",
        "# param_grid = {\"max_depth\":    [4, 5, 6],\n",
        "#               \"n_estimators\": [100, 200, 300],\n",
        "#               \"learning_rate\": [0.01, 0.015] , \n",
        "#               \"eval_metric\" : ['rmse']}\n",
        "\n",
        "# reg = xgb.XGBRegressor() \n",
        "\n",
        "finetuned_regressor = xgb.XGBRegressor(eval_metric = 'rmse' , learning_rate = 0.015 , max_depth = 7 , n_estimators = 300)\n",
        "finetuned_regressor.fit(training_x , training_y) \n",
        "\n",
        "training_score = score(finetuned_regressor , training_x , training_y) \n",
        "test_score = score(finetuned_regressor , testing_x , testing_y) \n",
        "\n",
        "print(training_score , test_score) "
      ],
      "metadata": {
        "colab": {
          "base_uri": "https://localhost:8080/"
        },
        "id": "QIb0aMZCsL19",
        "outputId": "3aa5e6ad-8f09-4929-ce69-50bff41d5930"
      },
      "execution_count": 51,
      "outputs": [
        {
          "output_type": "stream",
          "name": "stdout",
          "text": [
            "58.37030686870615 78.42352497154616\n"
          ]
        }
      ]
    },
    {
      "cell_type": "code",
      "source": [
        "from xgboost import plot_importance\n",
        "import matplotlib.pyplot as plt\n",
        "plt.style.use('fivethirtyeight')                                   \n",
        "plt.rcParams.update({'font.size': 16})\n",
        "\n",
        "fig, ax = plt.subplots(figsize=(12,6))\n",
        "plot_importance(finetuned_regressor , max_num_features=8, ax=ax)\n",
        "plt.show()"
      ],
      "metadata": {
        "colab": {
          "base_uri": "https://localhost:8080/",
          "height": 611
        },
        "id": "wJa1fCE1bG4z",
        "outputId": "3204abc2-c5af-4acf-bbdb-3c199e2bcbea"
      },
      "execution_count": 75,
      "outputs": [
        {
          "output_type": "display_data",
          "data": {
            "text/plain": [
              "<Figure size 1200x600 with 1 Axes>"
            ],
            "image/png": "[encoded data removed]"
          },
          "metadata": {}
        }
      ]
    },
    {
      "cell_type": "code",
      "source": [
        "submission6 = np.concatenate([finetuned_regressor.predict(training_x) , finetuned_regressor.predict(testing_x)])\n",
        "submission6.shape"
      ],
      "metadata": {
        "colab": {
          "base_uri": "https://localhost:8080/"
        },
        "id": "KPZVu7FHy2NZ",
        "outputId": "9bda116b-f716-4b3a-a154-5dc7f744ae86"
      },
      "execution_count": 52,
      "outputs": [
        {
          "output_type": "execute_result",
          "data": {
            "text/plain": [
              "(44396,)"
            ]
          },
          "metadata": {},
          "execution_count": 52
        }
      ]
    },
    {
      "cell_type": "code",
      "source": [
        "testing6 = finetuned_regressor.predict(FinalTesting_x) \n",
        "testing6.shape"
      ],
      "metadata": {
        "colab": {
          "base_uri": "https://localhost:8080/"
        },
        "id": "qgIHS2mWT8vj",
        "outputId": "14da0d9f-6d10-49d0-fd33-a4220951f380"
      },
      "execution_count": 63,
      "outputs": [
        {
          "output_type": "execute_result",
          "data": {
            "text/plain": [
              "(72158,)"
            ]
          },
          "metadata": {},
          "execution_count": 63
        }
      ]
    },
    {
      "cell_type": "code",
      "source": [
        "submission(finetuned_regressor.predict(FinalTesting_x) , 'xgboost.csv')"
      ],
      "metadata": {
        "id": "F6n71tqFzJwr"
      },
      "execution_count": null,
      "outputs": []
    },
    {
      "cell_type": "markdown",
      "source": [
        "ENSEMBLING "
      ],
      "metadata": {
        "id": "V6WpunDAz0UL"
      }
    },
    {
      "cell_type": "code",
      "source": [
        "submission_df = pd.DataFrame({'submission1' : submission1 , 'submission2' : submission2 , 'submission3' : submission3 ,\n",
        "                              'submission4' : submission5 , 'submission5' : submission6 , 'actual_y' : actual_y}) \n",
        "submission_df.head()"
      ],
      "metadata": {
        "colab": {
          "base_uri": "https://localhost:8080/",
          "height": 206
        },
        "id": "lzPSSa8oQGpV",
        "outputId": "e75df380-bf26-4559-c54d-5769b673c112"
      },
      "execution_count": 53,
      "outputs": [
        {
          "output_type": "execute_result",
          "data": {
            "text/plain": [
              "   submission1  submission2  submission3  submission4  submission5  actual_y\n",
              "0  1412.766937  1029.857143   937.855672  1011.020082  1006.530090    1070.0\n",
              "1    42.269562    36.033964    40.577866    36.128062    35.189289      41.0\n",
              "2    48.475712    51.693526    56.453554    55.682295    58.909012      54.0\n",
              "3   682.955422   630.245902   643.721763   671.054784   669.697449     682.0\n",
              "4    28.236075    30.328605    35.310315    26.512203    28.401815      30.0"
            ],
            "text/html": [
              "\n",
              "  <div id=\"df-dbaf6f92-0142-4337-890d-c9f373fb3901\">\n",
              "    <div class=\"colab-df-container\">\n",
              "      <div>\n",
              "<style scoped>\n",
              "    .dataframe tbody tr th:only-of-type {\n",
              "        vertical-align: middle;\n",
              "    }\n",
              "\n",
              "    .dataframe tbody tr th {\n",
              "        vertical-align: top;\n",
              "    }\n",
              "\n",
              "    .dataframe thead th {\n",
              "        text-align: right;\n",
              "    }\n",
              "</style>\n",
              "<table border=\"1\" class=\"dataframe\">\n",
              "  <thead>\n",
              "    <tr style=\"text-align: right;\">\n",
              "      <th></th>\n",
              "      <th>submission1</th>\n",
              "      <th>submission2</th>\n",
              "      <th>submission3</th>\n",
              "      <th>submission4</th>\n",
              "      <th>submission5</th>\n",
              "      <th>actual_y</th>\n",
              "    </tr>\n",
              "  </thead>\n",
              "  <tbody>\n",
              "    <tr>\n",
              "      <th>0</th>\n",
              "      <td>1412.766937</td>\n",
              "      <td>1029.857143</td>\n",
              "      <td>937.855672</td>\n",
              "      <td>1011.020082</td>\n",
              "      <td>1006.530090</td>\n",
              "      <td>1070.0</td>\n",
              "    </tr>\n",
              "    <tr>\n",
              "      <th>1</th>\n",
              "      <td>42.269562</td>\n",
              "      <td>36.033964</td>\n",
              "      <td>40.577866</td>\n",
              "      <td>36.128062</td>\n",
              "      <td>35.189289</td>\n",
              "      <td>41.0</td>\n",
              "    </tr>\n",
              "    <tr>\n",
              "      <th>2</th>\n",
              "      <td>48.475712</td>\n",
              "      <td>51.693526</td>\n",
              "      <td>56.453554</td>\n",
              "      <td>55.682295</td>\n",
              "      <td>58.909012</td>\n",
              "      <td>54.0</td>\n",
              "    </tr>\n",
              "    <tr>\n",
              "      <th>3</th>\n",
              "      <td>682.955422</td>\n",
              "      <td>630.245902</td>\n",
              "      <td>643.721763</td>\n",
              "      <td>671.054784</td>\n",
              "      <td>669.697449</td>\n",
              "      <td>682.0</td>\n",
              "    </tr>\n",
              "    <tr>\n",
              "      <th>4</th>\n",
              "      <td>28.236075</td>\n",
              "      <td>30.328605</td>\n",
              "      <td>35.310315</td>\n",
              "      <td>26.512203</td>\n",
              "      <td>28.401815</td>\n",
              "      <td>30.0</td>\n",
              "    </tr>\n",
              "  </tbody>\n",
              "</table>\n",
              "</div>\n",
              "      <button class=\"colab-df-convert\" onclick=\"convertToInteractive('df-dbaf6f92-0142-4337-890d-c9f373fb3901')\"\n",
              "              title=\"Convert this dataframe to an interactive table.\"\n",
              "              style=\"display:none;\">\n",
              "        \n",
              "  <svg xmlns=\"http://www.w3.org/2000/svg\" height=\"24px\"viewBox=\"0 0 24 24\"\n",
              "       width=\"24px\">\n",
              "    <path d=\"M0 0h24v24H0V0z\" fill=\"none\"/>\n",
              "    <path d=\"M18.56 5.44l.94 2.06.94-2.06 2.06-.94-2.06-.94-.94-2.06-.94 2.06-2.06.94zm-11 1L8.5 8.5l.94-2.06 2.06-.94-2.06-.94L8.5 2.5l-.94 2.06-2.06.94zm10 10l.94 2.06.94-2.06 2.06-.94-2.06-.94-.94-2.06-.94 2.06-2.06.94z\"/><path d=\"M17.41 7.96l-1.37-1.37c-.4-.4-.92-.59-1.43-.59-.52 0-1.04.2-1.43.59L10.3 9.45l-7.72 7.72c-.78.78-.78 2.05 0 2.83L4 21.41c.39.39.9.59 1.41.59.51 0 1.02-.2 1.41-.59l7.78-7.78 2.81-2.81c.8-.78.8-2.07 0-2.86zM5.41 20L4 18.59l7.72-7.72 1.47 1.35L5.41 20z\"/>\n",
              "  </svg>\n",
              "      </button>\n",
              "      \n",
              "  <style>\n",
              "    .colab-df-container {\n",
              "      display:flex;\n",
              "      flex-wrap:wrap;\n",
              "      gap: 12px;\n",
              "    }\n",
              "\n",
              "    .colab-df-convert {\n",
              "      background-color: #E8F0FE;\n",
              "      border: none;\n",
              "      border-radius: 50%;\n",
              "      cursor: pointer;\n",
              "      display: none;\n",
              "      fill: #1967D2;\n",
              "      height: 32px;\n",
              "      padding: 0 0 0 0;\n",
              "      width: 32px;\n",
              "    }\n",
              "\n",
              "    .colab-df-convert:hover {\n",
              "      background-color: #E2EBFA;\n",
              "      box-shadow: 0px 1px 2px rgba(60, 64, 67, 0.3), 0px 1px 3px 1px rgba(60, 64, 67, 0.15);\n",
              "      fill: #174EA6;\n",
              "    }\n",
              "\n",
              "    [theme=dark] .colab-df-convert {\n",
              "      background-color: #3B4455;\n",
              "      fill: #D2E3FC;\n",
              "    }\n",
              "\n",
              "    [theme=dark] .colab-df-convert:hover {\n",
              "      background-color: #434B5C;\n",
              "      box-shadow: 0px 1px 3px 1px rgba(0, 0, 0, 0.15);\n",
              "      filter: drop-shadow(0px 1px 2px rgba(0, 0, 0, 0.3));\n",
              "      fill: #FFFFFF;\n",
              "    }\n",
              "  </style>\n",
              "\n",
              "      <script>\n",
              "        const buttonEl =\n",
              "          document.querySelector('#df-dbaf6f92-0142-4337-890d-c9f373fb3901 button.colab-df-convert');\n",
              "        buttonEl.style.display =\n",
              "          google.colab.kernel.accessAllowed ? 'block' : 'none';\n",
              "\n",
              "        async function convertToInteractive(key) {\n",
              "          const element = document.querySelector('#df-dbaf6f92-0142-4337-890d-c9f373fb3901');\n",
              "          const dataTable =\n",
              "            await google.colab.kernel.invokeFunction('convertToInteractive',\n",
              "                                                     [key], {});\n",
              "          if (!dataTable) return;\n",
              "\n",
              "          const docLinkHtml = 'Like what you see? Visit the ' +\n",
              "            '<a target=\"_blank\" href=https://colab.research.google.com/notebooks/data_table.ipynb>data table notebook</a>'\n",
              "            + ' to learn more about interactive tables.';\n",
              "          element.innerHTML = '';\n",
              "          dataTable['output_type'] = 'display_data';\n",
              "          await google.colab.output.renderOutput(dataTable, element);\n",
              "          const docLink = document.createElement('div');\n",
              "          docLink.innerHTML = docLinkHtml;\n",
              "          element.appendChild(docLink);\n",
              "        }\n",
              "      </script>\n",
              "    </div>\n",
              "  </div>\n",
              "  "
            ]
          },
          "metadata": {},
          "execution_count": 53
        }
      ]
    },
    {
      "cell_type": "code",
      "source": [
        "testing_df = pd.DataFrame({'testing1' : testing1 , 'testing2' : testing2 , 'testing3' : testing3 ,\n",
        "                              'testing4' : testing5 , 'testing5' : testing6}) \n",
        "testing_df.shape"
      ],
      "metadata": {
        "colab": {
          "base_uri": "https://localhost:8080/"
        },
        "id": "QYZd2ulYUGgp",
        "outputId": "a28cebea-abd1-4c8a-bb02-8746311cc510"
      },
      "execution_count": 64,
      "outputs": [
        {
          "output_type": "execute_result",
          "data": {
            "text/plain": [
              "(72158, 5)"
            ]
          },
          "metadata": {},
          "execution_count": 64
        }
      ]
    },
    {
      "cell_type": "code",
      "source": [
        "#Ensemble_Train , Ensemble_Test = train_test_split(submission_df , test_size = 0.2 , random_state = 42) \n",
        "\n",
        "Ensemble_Train = submission_df.iloc[:int(0.8*44396)]\n",
        "Ensemble_Test = submission_df.iloc[int(0.8*44736):]\n",
        "Ensemble_Train.head()"
      ],
      "metadata": {
        "colab": {
          "base_uri": "https://localhost:8080/",
          "height": 206
        },
        "id": "P7GesxrZQ1G4",
        "outputId": "486ce9c8-b154-4f22-d258-9dfefced39d6"
      },
      "execution_count": 68,
      "outputs": [
        {
          "output_type": "execute_result",
          "data": {
            "text/plain": [
              "   submission1  submission2  submission3  submission4  submission5  actual_y\n",
              "0  1412.766937  1029.857143   937.855672  1011.020082  1006.530090    1070.0\n",
              "1    42.269562    36.033964    40.577866    36.128062    35.189289      41.0\n",
              "2    48.475712    51.693526    56.453554    55.682295    58.909012      54.0\n",
              "3   682.955422   630.245902   643.721763   671.054784   669.697449     682.0\n",
              "4    28.236075    30.328605    35.310315    26.512203    28.401815      30.0"
            ],
            "text/html": [
              "\n",
              "  <div id=\"df-e4095fb1-8672-43fb-bb15-2f72c91020b1\">\n",
              "    <div class=\"colab-df-container\">\n",
              "      <div>\n",
              "<style scoped>\n",
              "    .dataframe tbody tr th:only-of-type {\n",
              "        vertical-align: middle;\n",
              "    }\n",
              "\n",
              "    .dataframe tbody tr th {\n",
              "        vertical-align: top;\n",
              "    }\n",
              "\n",
              "    .dataframe thead th {\n",
              "        text-align: right;\n",
              "    }\n",
              "</style>\n",
              "<table border=\"1\" class=\"dataframe\">\n",
              "  <thead>\n",
              "    <tr style=\"text-align: right;\">\n",
              "      <th></th>\n",
              "      <th>submission1</th>\n",
              "      <th>submission2</th>\n",
              "      <th>submission3</th>\n",
              "      <th>submission4</th>\n",
              "      <th>submission5</th>\n",
              "      <th>actual_y</th>\n",
              "    </tr>\n",
              "  </thead>\n",
              "  <tbody>\n",
              "    <tr>\n",
              "      <th>0</th>\n",
              "      <td>1412.766937</td>\n",
              "      <td>1029.857143</td>\n",
              "      <td>937.855672</td>\n",
              "      <td>1011.020082</td>\n",
              "      <td>1006.530090</td>\n",
              "      <td>1070.0</td>\n",
              "    </tr>\n",
              "    <tr>\n",
              "      <th>1</th>\n",
              "      <td>42.269562</td>\n",
              "      <td>36.033964</td>\n",
              "      <td>40.577866</td>\n",
              "      <td>36.128062</td>\n",
              "      <td>35.189289</td>\n",
              "      <td>41.0</td>\n",
              "    </tr>\n",
              "    <tr>\n",
              "      <th>2</th>\n",
              "      <td>48.475712</td>\n",
              "      <td>51.693526</td>\n",
              "      <td>56.453554</td>\n",
              "      <td>55.682295</td>\n",
              "      <td>58.909012</td>\n",
              "      <td>54.0</td>\n",
              "    </tr>\n",
              "    <tr>\n",
              "      <th>3</th>\n",
              "      <td>682.955422</td>\n",
              "      <td>630.245902</td>\n",
              "      <td>643.721763</td>\n",
              "      <td>671.054784</td>\n",
              "      <td>669.697449</td>\n",
              "      <td>682.0</td>\n",
              "    </tr>\n",
              "    <tr>\n",
              "      <th>4</th>\n",
              "      <td>28.236075</td>\n",
              "      <td>30.328605</td>\n",
              "      <td>35.310315</td>\n",
              "      <td>26.512203</td>\n",
              "      <td>28.401815</td>\n",
              "      <td>30.0</td>\n",
              "    </tr>\n",
              "  </tbody>\n",
              "</table>\n",
              "</div>\n",
              "      <button class=\"colab-df-convert\" onclick=\"convertToInteractive('df-e4095fb1-8672-43fb-bb15-2f72c91020b1')\"\n",
              "              title=\"Convert this dataframe to an interactive table.\"\n",
              "              style=\"display:none;\">\n",
              "        \n",
              "  <svg xmlns=\"http://www.w3.org/2000/svg\" height=\"24px\"viewBox=\"0 0 24 24\"\n",
              "       width=\"24px\">\n",
              "    <path d=\"M0 0h24v24H0V0z\" fill=\"none\"/>\n",
              "    <path d=\"M18.56 5.44l.94 2.06.94-2.06 2.06-.94-2.06-.94-.94-2.06-.94 2.06-2.06.94zm-11 1L8.5 8.5l.94-2.06 2.06-.94-2.06-.94L8.5 2.5l-.94 2.06-2.06.94zm10 10l.94 2.06.94-2.06 2.06-.94-2.06-.94-.94-2.06-.94 2.06-2.06.94z\"/><path d=\"M17.41 7.96l-1.37-1.37c-.4-.4-.92-.59-1.43-.59-.52 0-1.04.2-1.43.59L10.3 9.45l-7.72 7.72c-.78.78-.78 2.05 0 2.83L4 21.41c.39.39.9.59 1.41.59.51 0 1.02-.2 1.41-.59l7.78-7.78 2.81-2.81c.8-.78.8-2.07 0-2.86zM5.41 20L4 18.59l7.72-7.72 1.47 1.35L5.41 20z\"/>\n",
              "  </svg>\n",
              "      </button>\n",
              "      \n",
              "  <style>\n",
              "    .colab-df-container {\n",
              "      display:flex;\n",
              "      flex-wrap:wrap;\n",
              "      gap: 12px;\n",
              "    }\n",
              "\n",
              "    .colab-df-convert {\n",
              "      background-color: #E8F0FE;\n",
              "      border: none;\n",
              "      border-radius: 50%;\n",
              "      cursor: pointer;\n",
              "      display: none;\n",
              "      fill: #1967D2;\n",
              "      height: 32px;\n",
              "      padding: 0 0 0 0;\n",
              "      width: 32px;\n",
              "    }\n",
              "\n",
              "    .colab-df-convert:hover {\n",
              "      background-color: #E2EBFA;\n",
              "      box-shadow: 0px 1px 2px rgba(60, 64, 67, 0.3), 0px 1px 3px 1px rgba(60, 64, 67, 0.15);\n",
              "      fill: #174EA6;\n",
              "    }\n",
              "\n",
              "    [theme=dark] .colab-df-convert {\n",
              "      background-color: #3B4455;\n",
              "      fill: #D2E3FC;\n",
              "    }\n",
              "\n",
              "    [theme=dark] .colab-df-convert:hover {\n",
              "      background-color: #434B5C;\n",
              "      box-shadow: 0px 1px 3px 1px rgba(0, 0, 0, 0.15);\n",
              "      filter: drop-shadow(0px 1px 2px rgba(0, 0, 0, 0.3));\n",
              "      fill: #FFFFFF;\n",
              "    }\n",
              "  </style>\n",
              "\n",
              "      <script>\n",
              "        const buttonEl =\n",
              "          document.querySelector('#df-e4095fb1-8672-43fb-bb15-2f72c91020b1 button.colab-df-convert');\n",
              "        buttonEl.style.display =\n",
              "          google.colab.kernel.accessAllowed ? 'block' : 'none';\n",
              "\n",
              "        async function convertToInteractive(key) {\n",
              "          const element = document.querySelector('#df-e4095fb1-8672-43fb-bb15-2f72c91020b1');\n",
              "          const dataTable =\n",
              "            await google.colab.kernel.invokeFunction('convertToInteractive',\n",
              "                                                     [key], {});\n",
              "          if (!dataTable) return;\n",
              "\n",
              "          const docLinkHtml = 'Like what you see? Visit the ' +\n",
              "            '<a target=\"_blank\" href=https://colab.research.google.com/notebooks/data_table.ipynb>data table notebook</a>'\n",
              "            + ' to learn more about interactive tables.';\n",
              "          element.innerHTML = '';\n",
              "          dataTable['output_type'] = 'display_data';\n",
              "          await google.colab.output.renderOutput(dataTable, element);\n",
              "          const docLink = document.createElement('div');\n",
              "          docLink.innerHTML = docLinkHtml;\n",
              "          element.appendChild(docLink);\n",
              "        }\n",
              "      </script>\n",
              "    </div>\n",
              "  </div>\n",
              "  "
            ]
          },
          "metadata": {},
          "execution_count": 68
        }
      ]
    },
    {
      "cell_type": "code",
      "source": [
        "X_TRAIN = Ensemble_Train.drop(columns = ['actual_y']).values \n",
        "X_TEST = Ensemble_Test.drop(columns = ['actual_y']).values \n",
        "\n",
        "scaler1 = StandardScaler()\n",
        "scaler1.fit(X_TRAIN)\n",
        "\n",
        "scaler2 = StandardScaler() \n",
        "scaler2.fit(X_TEST)\n",
        "\n",
        "X_TRAIN = scaler1.transform(X_TRAIN)\n",
        "X_TEST = scaler2.transform(X_TEST)\n",
        "\n",
        "Y_TRAIN = Ensemble_Train['actual_y'].values \n",
        "Y_TEST = Ensemble_Test['actual_y'].values "
      ],
      "metadata": {
        "id": "FLtixLieRV7U"
      },
      "execution_count": 73,
      "outputs": []
    },
    {
      "cell_type": "code",
      "source": [
        "XGB_REGRESSOR =xgb.XGBRegressor(eval_metric = 'rmse' , learning_rate = 0.015 , max_depth = 7 , n_estimators = 300)\n",
        "XGB_REGRESSOR.fit(X_TRAIN , Y_TRAIN) \n",
        "\n",
        "score = np.sqrt(mean_squared_error(XGB_REGRESSOR.predict(X_TEST) , Y_TEST))\n",
        "score"
      ],
      "metadata": {
        "colab": {
          "base_uri": "https://localhost:8080/"
        },
        "id": "CsrfC1ukR5WI",
        "outputId": "545a6ea2-dac5-4038-df6f-9236f8801a92"
      },
      "execution_count": 74,
      "outputs": [
        {
          "output_type": "execute_result",
          "data": {
            "text/plain": [
              "82.00911764557759"
            ]
          },
          "metadata": {},
          "execution_count": 74
        }
      ]
    },
    {
      "cell_type": "code",
      "source": [
        "values = XGB_REGRESSOR.predict(testing_df.values)\n",
        "values.shape"
      ],
      "metadata": {
        "colab": {
          "base_uri": "https://localhost:8080/"
        },
        "id": "iV6_k5DiTCS8",
        "outputId": "80ad0e99-81ab-41bc-d7e7-726f70c50976"
      },
      "execution_count": 72,
      "outputs": [
        {
          "output_type": "execute_result",
          "data": {
            "text/plain": [
              "(72158,)"
            ]
          },
          "metadata": {},
          "execution_count": 72
        }
      ]
    },
    {
      "cell_type": "code",
      "source": [
        "submission(values , 'ensemble_submission.csv')"
      ],
      "metadata": {
        "id": "RRfh7O5-U0Qg"
      },
      "execution_count": 66,
      "outputs": []
    }
  ]
}